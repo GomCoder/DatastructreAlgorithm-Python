{
 "cells": [
  {
   "cell_type": "code",
   "execution_count": 6,
   "metadata": {},
   "outputs": [
    {
     "data": {
      "text/plain": [
       "0"
      ]
     },
     "execution_count": 6,
     "metadata": {},
     "output_type": "execute_result"
    }
   ],
   "source": [
    "#일반적인 Queue: 가장 일반적인 Queue 자료구조\n",
    "import queue\n",
    "\n",
    "data_queue = queue.Queue()\n",
    "\n",
    "data_queue.put(\"funcoding\") #Queue에서 데이터 넣기\n",
    "data_queue.put(1)\n",
    "\n",
    "data_queue.qsize() #Queue의 크기\n",
    "data_queue.get() #Queue에서 데이터 꺼내기\n",
    "data_queue.qsize()\n",
    "data_queue.get()\n",
    "data_queue.qsize()\n"
   ]
  },
  {
   "cell_type": "code",
   "execution_count": 9,
   "metadata": {},
   "outputs": [
    {
     "data": {
      "text/plain": [
       "1"
      ]
     },
     "execution_count": 9,
     "metadata": {},
     "output_type": "execute_result"
    }
   ],
   "source": [
    "#LIFO Queue: Last In, First Out( = Stack 자료구조)\n",
    "import queue\n",
    "data_queue = queue.LifoQueue()\n",
    "\n",
    "data_queue.put(\"funcoding\")\n",
    "data_queue.put(1)\n",
    "\n",
    "data_queue.qsize()\n",
    "data_queue.get()\n"
   ]
  },
  {
   "cell_type": "code",
   "execution_count": 13,
   "metadata": {},
   "outputs": [
    {
     "data": {
      "text/plain": [
       "(10, 'Korea')"
      ]
     },
     "execution_count": 13,
     "metadata": {},
     "output_type": "execute_result"
    }
   ],
   "source": [
    "#Priority Queue: 우선 순위 Queue, 우선 순위가 높은 것부터 출력함\n",
    "import queue\n",
    "data_queue = queue.PriorityQueue()\n",
    "\n",
    "data_queue.put((10, \"Korea\"))\n",
    "data_queue.put((5, 1))\n",
    "data_queue.put((15, \"china\"))\n",
    "\n",
    "data_queue.qsize()\n",
    "data_queue.get()\n",
    "data_queue.get()\n"
   ]
  },
  {
   "cell_type": "code",
   "execution_count": 19,
   "metadata": {},
   "outputs": [
    {
     "data": {
      "text/plain": [
       "0"
      ]
     },
     "execution_count": 19,
     "metadata": {},
     "output_type": "execute_result"
    }
   ],
   "source": [
    "#enqueue와 dequeue 구현해보기\n",
    "queue_list = list()\n",
    "\n",
    "def enqueue(data):\n",
    "    queue_list.append(data)\n",
    "\n",
    "def dequeue():\n",
    "    data = queue_list[0]\n",
    "    del queue_list[0]\n",
    "    return data\n",
    "\n",
    "for index in range(10):\n",
    "    enqueue(index)\n",
    "\n",
    "len(queue_list)\n",
    "dequeue()"
   ]
  }
 ],
 "metadata": {
  "kernelspec": {
   "display_name": "Python 3",
   "language": "python",
   "name": "python3"
  },
  "language_info": {
   "codemirror_mode": {
    "name": "ipython",
    "version": 3
   },
   "file_extension": ".py",
   "mimetype": "text/x-python",
   "name": "python",
   "nbconvert_exporter": "python",
   "pygments_lexer": "ipython3",
   "version": "3.9.13"
  },
  "orig_nbformat": 4,
  "vscode": {
   "interpreter": {
    "hash": "ca57d58935ab76c9aeaa08628cf2b52906d3c5368fe592753cb5846d1721a878"
   }
  }
 },
 "nbformat": 4,
 "nbformat_minor": 2
}
